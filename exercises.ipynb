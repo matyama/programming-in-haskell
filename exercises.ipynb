{
 "cells": [
  {
   "cell_type": "markdown",
   "id": "44adfe38",
   "metadata": {},
   "source": [
    "# Exercises"
   ]
  },
  {
   "cell_type": "markdown",
   "id": "fc14f5ca",
   "metadata": {},
   "source": [
    "## Chapter 1: Introduction"
   ]
  },
  {
   "cell_type": "markdown",
   "id": "1f6b527c",
   "metadata": {},
   "source": [
    "### Exercise 3"
   ]
  },
  {
   "cell_type": "code",
   "execution_count": null,
   "id": "be192ce2",
   "metadata": {},
   "outputs": [],
   "source": [
    "product' :: Num a => [a] -> a\n",
    "product' [] = 1\n",
    "product' (n:ns) = n * product' ns"
   ]
  },
  {
   "cell_type": "code",
   "execution_count": null,
   "id": "2df55c99",
   "metadata": {},
   "outputs": [],
   "source": [
    "product' [1..4]"
   ]
  },
  {
   "cell_type": "code",
   "execution_count": null,
   "id": "d4646340",
   "metadata": {},
   "outputs": [],
   "source": [
    "product' []"
   ]
  },
  {
   "cell_type": "markdown",
   "id": "8eed32cc",
   "metadata": {},
   "source": [
    "## Chapter 2: First steps"
   ]
  },
  {
   "cell_type": "markdown",
   "id": "c1f051a7",
   "metadata": {},
   "source": [
    "### Exercise 3"
   ]
  },
  {
   "cell_type": "code",
   "execution_count": null,
   "id": "bebc680a",
   "metadata": {},
   "outputs": [],
   "source": [
    "n = a `div` length xs\n",
    "    where\n",
    "        a = 10\n",
    "        xs = [1, 2, 3, 4, 5]"
   ]
  },
  {
   "cell_type": "markdown",
   "id": "26098506",
   "metadata": {},
   "source": [
    "### Exercise 4"
   ]
  },
  {
   "cell_type": "code",
   "execution_count": null,
   "id": "9cdeab39",
   "metadata": {},
   "outputs": [],
   "source": [
    "last' :: [a] -> a\n",
    "last' xs = xs !! (n - 1)\n",
    "    where n = length xs"
   ]
  },
  {
   "cell_type": "code",
   "execution_count": null,
   "id": "a0cf19f9",
   "metadata": {},
   "outputs": [],
   "source": [
    "last' [1, 2, 3, 4, 5]"
   ]
  },
  {
   "cell_type": "markdown",
   "id": "3ef715b3",
   "metadata": {},
   "source": [
    "### Exercise 5"
   ]
  },
  {
   "cell_type": "code",
   "execution_count": null,
   "id": "9f8094a3",
   "metadata": {},
   "outputs": [],
   "source": [
    "init' :: [a] -> [a]\n",
    "init' xs = take (n - 1) xs\n",
    "    where n = length xs"
   ]
  },
  {
   "cell_type": "code",
   "execution_count": null,
   "id": "9d3210eb",
   "metadata": {},
   "outputs": [],
   "source": [
    "init' [1, 2, 3, 4, 5]"
   ]
  },
  {
   "cell_type": "code",
   "execution_count": null,
   "id": "61184526",
   "metadata": {},
   "outputs": [],
   "source": [
    "init'' :: [a] -> [a]\n",
    "init'' = reverse . tail . reverse"
   ]
  },
  {
   "cell_type": "code",
   "execution_count": null,
   "id": "60a3d9b9",
   "metadata": {},
   "outputs": [],
   "source": [
    "init'' [1, 2, 3, 4, 5]"
   ]
  },
  {
   "cell_type": "markdown",
   "id": "e13d5878",
   "metadata": {},
   "source": [
    "## Chapter 3: Types and classes"
   ]
  },
  {
   "cell_type": "markdown",
   "id": "378c3095",
   "metadata": {},
   "source": [
    "### Exercise 1"
   ]
  },
  {
   "cell_type": "code",
   "execution_count": null,
   "id": "900a27b8",
   "metadata": {},
   "outputs": [],
   "source": [
    "['a', 'b', 'c'] :: [Char]\n",
    "\n",
    "('a', 'b', 'c') :: (Char, Char, Char)\n",
    "\n",
    "[(False, '0'), (True, '1')] :: [(Bool, Char)]\n",
    "\n",
    "([False, True], ['0', '1']) :: ([Bool], [Char])\n",
    "\n",
    "funcs :: [([a] -> [a])]\n",
    "funcs = [tail, init, reverse]"
   ]
  },
  {
   "cell_type": "markdown",
   "id": "5404ee2a",
   "metadata": {},
   "source": [
    "### Exercise 2"
   ]
  },
  {
   "cell_type": "code",
   "execution_count": null,
   "id": "166ed24b",
   "metadata": {},
   "outputs": [],
   "source": [
    "bools :: [Bool]\n",
    "bools = [True, False]\n",
    "\n",
    "nums :: [[Int]]\n",
    "nums = [[1, 2, 3], [], [42]]\n",
    "\n",
    "add :: Int -> Int -> Int -> Int\n",
    "add x y z = x + y + z\n",
    "\n",
    "copy :: a -> (a, a)\n",
    "copy x = (x, x)\n",
    "\n",
    "apply :: (a -> b) -> a -> b\n",
    "apply f x = f x"
   ]
  },
  {
   "cell_type": "markdown",
   "id": "2b5bc843",
   "metadata": {},
   "source": [
    "### Exercise 3"
   ]
  },
  {
   "cell_type": "code",
   "execution_count": null,
   "id": "123fa618",
   "metadata": {},
   "outputs": [],
   "source": [
    "second :: [a] -> a\n",
    "second xs = head (tail xs)\n",
    "\n",
    "swap :: (a, b) -> (b, a)\n",
    "swap (x, y) = (y, x)\n",
    "\n",
    "pair :: a -> b -> (a, b)\n",
    "pair x y = (x, y)\n",
    "\n",
    "double :: Num a => a -> a\n",
    "double x = x ^ 2\n",
    "\n",
    "palindrome :: Eq a => [a] -> Bool\n",
    "palindrome xs = reverse xs == xs\n",
    "\n",
    "twice :: (a -> a) -> a -> a\n",
    "twice f x = f (f x)"
   ]
  },
  {
   "cell_type": "markdown",
   "id": "3a9de1b5",
   "metadata": {},
   "source": [
    "## Chapter 4: Defining functions"
   ]
  },
  {
   "cell_type": "markdown",
   "id": "ed16b458",
   "metadata": {},
   "source": [
    "### Exercise 1"
   ]
  },
  {
   "cell_type": "code",
   "execution_count": null,
   "id": "559c68c6",
   "metadata": {},
   "outputs": [],
   "source": [
    "-- splits even-lengthed list into two halves\n",
    "halve :: [a] -> ([a], [a])\n",
    "halve xs = splitAt n xs\n",
    "    where\n",
    "        n = length xs `div` 2"
   ]
  },
  {
   "cell_type": "code",
   "execution_count": null,
   "id": "044324e3",
   "metadata": {},
   "outputs": [],
   "source": [
    "halve [1..6]"
   ]
  },
  {
   "cell_type": "markdown",
   "id": "26fa699b",
   "metadata": {},
   "source": [
    "### Exercise 2"
   ]
  },
  {
   "cell_type": "code",
   "execution_count": null,
   "id": "90bf5914",
   "metadata": {},
   "outputs": [],
   "source": [
    "third :: [a] -> a\n",
    "third xs = xs !! 2"
   ]
  },
  {
   "cell_type": "code",
   "execution_count": null,
   "id": "da76dae7",
   "metadata": {},
   "outputs": [],
   "source": [
    "third [1, 2, 3, 4]"
   ]
  },
  {
   "cell_type": "code",
   "execution_count": null,
   "id": "1e762c0e",
   "metadata": {},
   "outputs": [],
   "source": [
    "third' :: [a] -> a\n",
    "third' (_:_:x:_) = x"
   ]
  },
  {
   "cell_type": "code",
   "execution_count": null,
   "id": "8a19ae93",
   "metadata": {},
   "outputs": [],
   "source": [
    "third' [1, 2, 3, 4]"
   ]
  },
  {
   "cell_type": "markdown",
   "id": "8d3c8961",
   "metadata": {},
   "source": [
    "### Exercise 3"
   ]
  },
  {
   "cell_type": "code",
   "execution_count": null,
   "id": "471578ea",
   "metadata": {},
   "outputs": [],
   "source": [
    "safetail :: [a] -> [a]\n",
    "safetail xs = if null xs then [] else tail xs"
   ]
  },
  {
   "cell_type": "code",
   "execution_count": null,
   "id": "e3dfc7df",
   "metadata": {},
   "outputs": [],
   "source": [
    "safetail []"
   ]
  },
  {
   "cell_type": "code",
   "execution_count": null,
   "id": "ca6f9e3b",
   "metadata": {},
   "outputs": [],
   "source": [
    "safetail [1, 2, 3]"
   ]
  },
  {
   "cell_type": "code",
   "execution_count": null,
   "id": "47621905",
   "metadata": {},
   "outputs": [],
   "source": [
    "safetail' :: [a] -> [a]\n",
    "safetail' xs\n",
    "    | null xs = []\n",
    "    | otherwise = tail xs"
   ]
  },
  {
   "cell_type": "code",
   "execution_count": null,
   "id": "c80f06ce",
   "metadata": {},
   "outputs": [],
   "source": [
    "safetail' []"
   ]
  },
  {
   "cell_type": "code",
   "execution_count": null,
   "id": "a1e8423b",
   "metadata": {},
   "outputs": [],
   "source": [
    "safetail' [1, 2, 3]"
   ]
  },
  {
   "cell_type": "code",
   "execution_count": null,
   "id": "1a4dbb3d",
   "metadata": {},
   "outputs": [],
   "source": [
    "safetail'' :: [a] -> [a]\n",
    "safetail'' [] = []\n",
    "safetail'' (x:xs) = xs"
   ]
  },
  {
   "cell_type": "code",
   "execution_count": null,
   "id": "23bcc918",
   "metadata": {},
   "outputs": [],
   "source": [
    "safetail'' []"
   ]
  },
  {
   "cell_type": "code",
   "execution_count": null,
   "id": "e2685542",
   "metadata": {},
   "outputs": [],
   "source": [
    "safetail'' [1, 2, 3]"
   ]
  },
  {
   "cell_type": "markdown",
   "id": "fe92d171",
   "metadata": {},
   "source": [
    "### Exercise 7"
   ]
  },
  {
   "cell_type": "code",
   "execution_count": null,
   "id": "e8bca837",
   "metadata": {},
   "outputs": [],
   "source": [
    "mult :: Int -> (Int -> (Int -> Int))\n",
    "mult = \\x -> (\\y -> (\\z -> x * y * z))"
   ]
  },
  {
   "cell_type": "code",
   "execution_count": null,
   "id": "69f334b0",
   "metadata": {},
   "outputs": [],
   "source": [
    "mult 2 3 4"
   ]
  },
  {
   "cell_type": "markdown",
   "id": "0630cc47",
   "metadata": {},
   "source": [
    "### Exercise 8\n",
    "Implement the *Luhn algorithm* for 4 digit card numbers."
   ]
  },
  {
   "cell_type": "code",
   "execution_count": null,
   "id": "0aa364a6",
   "metadata": {},
   "outputs": [],
   "source": [
    "luhnDouble :: Int -> Int\n",
    "luhnDouble d = if dd > 9 then dd - 9 else dd\n",
    "    where dd = 2 * d"
   ]
  },
  {
   "cell_type": "code",
   "execution_count": null,
   "id": "c9b9cca0",
   "metadata": {},
   "outputs": [],
   "source": [
    "luhnDouble 3"
   ]
  },
  {
   "cell_type": "code",
   "execution_count": null,
   "id": "cde5e592",
   "metadata": {},
   "outputs": [],
   "source": [
    "luhnDouble 6"
   ]
  },
  {
   "cell_type": "code",
   "execution_count": null,
   "id": "333a3720",
   "metadata": {},
   "outputs": [],
   "source": [
    "luhn :: Int -> Int -> Int -> Int -> Bool\n",
    "luhn n1 n2 n3 n4 = total `mod` 10 == 0\n",
    "    where total = luhnDouble n1 + n2 + luhnDouble n3 + n4"
   ]
  },
  {
   "cell_type": "code",
   "execution_count": null,
   "id": "9b111c31",
   "metadata": {},
   "outputs": [],
   "source": [
    "luhn 1 7 8 4"
   ]
  },
  {
   "cell_type": "code",
   "execution_count": null,
   "id": "a105a5da",
   "metadata": {},
   "outputs": [],
   "source": [
    "luhn 4 7 8 3"
   ]
  },
  {
   "cell_type": "markdown",
   "id": "d7b9f2ec",
   "metadata": {},
   "source": [
    "## Chapter 5: List comprehensions"
   ]
  },
  {
   "cell_type": "markdown",
   "id": "bb193f7f",
   "metadata": {},
   "source": [
    "### Exercise 1"
   ]
  },
  {
   "cell_type": "code",
   "execution_count": null,
   "id": "59c5b642",
   "metadata": {},
   "outputs": [],
   "source": [
    "squares :: Integral n => n -> [n]\n",
    "squares n = [x^2 | x <- [1..n]]"
   ]
  },
  {
   "cell_type": "code",
   "execution_count": null,
   "id": "140a2fd5",
   "metadata": {},
   "outputs": [],
   "source": [
    "squares 10"
   ]
  },
  {
   "cell_type": "markdown",
   "id": "c69f384f",
   "metadata": {},
   "source": [
    "### Exercise 2"
   ]
  },
  {
   "cell_type": "code",
   "execution_count": null,
   "id": "a18ec0b2",
   "metadata": {},
   "outputs": [],
   "source": [
    "grid :: Int -> Int -> [(Int, Int)]\n",
    "grid m n = [(x, y) | x <- [0..m], y <- [0..n]]"
   ]
  },
  {
   "cell_type": "code",
   "execution_count": null,
   "id": "34cc47c7",
   "metadata": {},
   "outputs": [],
   "source": [
    "grid 1 2"
   ]
  },
  {
   "cell_type": "markdown",
   "id": "af55e14c",
   "metadata": {},
   "source": [
    "### Exercise 3"
   ]
  },
  {
   "cell_type": "code",
   "execution_count": null,
   "id": "f704c744",
   "metadata": {},
   "outputs": [],
   "source": [
    "square :: Int -> [(Int, Int)]\n",
    "square n = [(x, y) | (x, y) <- grid n n, x /= y]"
   ]
  },
  {
   "cell_type": "code",
   "execution_count": null,
   "id": "0755bfe8",
   "metadata": {},
   "outputs": [],
   "source": [
    "square 2"
   ]
  },
  {
   "cell_type": "markdown",
   "id": "9726ee5c",
   "metadata": {},
   "source": [
    "### Exercise 4"
   ]
  },
  {
   "cell_type": "code",
   "execution_count": null,
   "id": "f1d1b4ff",
   "metadata": {},
   "outputs": [],
   "source": [
    "replicate' :: Int -> a -> [a]\n",
    "replicate' n x = [x | _ <- [1..n]]"
   ]
  },
  {
   "cell_type": "code",
   "execution_count": null,
   "id": "780077c9",
   "metadata": {},
   "outputs": [],
   "source": [
    "replicate' 3 True"
   ]
  },
  {
   "cell_type": "markdown",
   "id": "16620df7",
   "metadata": {},
   "source": [
    "### Exercise 5"
   ]
  },
  {
   "cell_type": "code",
   "execution_count": null,
   "id": "c073926c",
   "metadata": {},
   "outputs": [],
   "source": [
    "-- List all Pythagorean triplets with components of value at most n\n",
    "pyths :: Int -> [(Int, Int, Int)]\n",
    "pyths n = [(x, y, z) | x <- [1..n], y <- [1..n], z <- [1..n], x^2 + y^2 == z^2]"
   ]
  },
  {
   "cell_type": "code",
   "execution_count": null,
   "id": "ffc75fa1",
   "metadata": {},
   "outputs": [],
   "source": [
    "pyths 10"
   ]
  },
  {
   "cell_type": "markdown",
   "id": "0a0c6cd3",
   "metadata": {},
   "source": [
    "### Exercise 6"
   ]
  },
  {
   "cell_type": "code",
   "execution_count": null,
   "id": "b2db75dc",
   "metadata": {},
   "outputs": [],
   "source": [
    "-- lists first n integers that are *perfect* (equals to the sum of all its factors)\n",
    "perfects :: Int -> [Int]\n",
    "perfects n = [x | x <- [1..n], x == sum (factors x)]\n",
    "    where factors k = [f | f <- [1..k-1], k `mod` f == 0]"
   ]
  },
  {
   "cell_type": "code",
   "execution_count": null,
   "id": "4c0239d7",
   "metadata": {},
   "outputs": [],
   "source": [
    "perfects 500"
   ]
  },
  {
   "cell_type": "markdown",
   "id": "b247b8a7",
   "metadata": {},
   "source": [
    "### Exercise 7"
   ]
  },
  {
   "cell_type": "code",
   "execution_count": null,
   "id": "c6415894",
   "metadata": {},
   "outputs": [],
   "source": [
    "[(x, y) | x <- [1, 2], y <- [3, 4]]"
   ]
  },
  {
   "cell_type": "code",
   "execution_count": null,
   "id": "78d724ec",
   "metadata": {},
   "outputs": [],
   "source": [
    "concat [[(x, y) | y <- [3, 4]] | x <- [1, 2]]"
   ]
  },
  {
   "cell_type": "markdown",
   "id": "92a1ecd6",
   "metadata": {},
   "source": [
    "### Exercise 8"
   ]
  },
  {
   "cell_type": "code",
   "execution_count": null,
   "id": "f04c8595",
   "metadata": {},
   "outputs": [],
   "source": [
    "positions :: Eq a => a -> [a] -> [Int]\n",
    "positions k xs = find k (zip xs [0..])\n",
    "    where\n",
    "        find k t = [v | (k', v) <- t, k == k']"
   ]
  },
  {
   "cell_type": "code",
   "execution_count": null,
   "id": "42fed2d4",
   "metadata": {},
   "outputs": [],
   "source": [
    "positions False [True, False, True, False]"
   ]
  },
  {
   "cell_type": "markdown",
   "id": "b2d77997",
   "metadata": {},
   "source": [
    "### Exercise 9"
   ]
  },
  {
   "cell_type": "code",
   "execution_count": null,
   "id": "c9fb2213",
   "metadata": {},
   "outputs": [],
   "source": [
    "scalarproduct :: [Int] -> [Int] -> Int\n",
    "scalarproduct xs ys = sum [x * y | (x, y) <- zip xs ys]"
   ]
  },
  {
   "cell_type": "code",
   "execution_count": null,
   "id": "8c66cfbf",
   "metadata": {},
   "outputs": [],
   "source": [
    "scalarproduct [1, 2, 3] [4, 5, 6]"
   ]
  },
  {
   "cell_type": "markdown",
   "id": "afb8cb05",
   "metadata": {},
   "source": [
    "## Chapter 6: Recursive functions"
   ]
  },
  {
   "cell_type": "markdown",
   "id": "4fb27a3f",
   "metadata": {},
   "source": [
    "### Exercise 2"
   ]
  },
  {
   "cell_type": "code",
   "execution_count": null,
   "id": "fb1194cd",
   "metadata": {},
   "outputs": [],
   "source": [
    "sumdown :: Int -> Int\n",
    "sumdown 0 = 0\n",
    "sumdown n = n + sumdown (n - 1)"
   ]
  },
  {
   "cell_type": "code",
   "execution_count": null,
   "id": "b9c680d9",
   "metadata": {},
   "outputs": [],
   "source": [
    "sumdown 3"
   ]
  },
  {
   "cell_type": "markdown",
   "id": "bc08bd05",
   "metadata": {},
   "source": [
    "### Exercise 4"
   ]
  },
  {
   "cell_type": "code",
   "execution_count": null,
   "id": "908e0254",
   "metadata": {},
   "outputs": [],
   "source": [
    "euclid :: Int -> Int -> Int\n",
    "euclid a 0 = a\n",
    "euclid a b = euclid b (a `mod` b)"
   ]
  },
  {
   "cell_type": "code",
   "execution_count": null,
   "id": "1457f95f",
   "metadata": {},
   "outputs": [],
   "source": [
    "euclid 6 27"
   ]
  },
  {
   "cell_type": "markdown",
   "id": "6094cb75",
   "metadata": {},
   "source": [
    "### Exercise 6"
   ]
  },
  {
   "cell_type": "code",
   "execution_count": null,
   "id": "a70204a2",
   "metadata": {},
   "outputs": [],
   "source": [
    "and' :: [Bool] -> Bool\n",
    "and' [] = True\n",
    "and' (True:xs) = and' xs\n",
    "and' _ = False"
   ]
  },
  {
   "cell_type": "code",
   "execution_count": null,
   "id": "d33c3c7c",
   "metadata": {},
   "outputs": [],
   "source": [
    "and' []"
   ]
  },
  {
   "cell_type": "code",
   "execution_count": null,
   "id": "007042c4",
   "metadata": {},
   "outputs": [],
   "source": [
    "and' [True, True, True]"
   ]
  },
  {
   "cell_type": "code",
   "execution_count": null,
   "id": "a6dba685",
   "metadata": {},
   "outputs": [],
   "source": [
    "and' [True, False, True]"
   ]
  },
  {
   "cell_type": "code",
   "execution_count": null,
   "id": "0ae01b1d",
   "metadata": {},
   "outputs": [],
   "source": [
    "concat' :: [[a]] -> [a]\n",
    "concat' [] = []\n",
    "concat' [x] = x\n",
    "concat' (x:xs) = x ++ concat' xs"
   ]
  },
  {
   "cell_type": "code",
   "execution_count": null,
   "id": "680ab3c1",
   "metadata": {},
   "outputs": [],
   "source": [
    "concat' []"
   ]
  },
  {
   "cell_type": "code",
   "execution_count": null,
   "id": "2c68d0e7",
   "metadata": {},
   "outputs": [],
   "source": [
    "concat' [[42]]"
   ]
  },
  {
   "cell_type": "code",
   "execution_count": null,
   "id": "6fa6741b",
   "metadata": {},
   "outputs": [],
   "source": [
    "concat' [[1, 2, 3], [4], [5, 6], []]"
   ]
  },
  {
   "cell_type": "code",
   "execution_count": null,
   "id": "562fcc74",
   "metadata": {},
   "outputs": [],
   "source": [
    "replicate' :: Int -> a -> [a]\n",
    "replicate' 0 _ = []\n",
    "replicate' n x = x : replicate (n - 1) x"
   ]
  },
  {
   "cell_type": "code",
   "execution_count": null,
   "id": "705784d0",
   "metadata": {},
   "outputs": [],
   "source": [
    "replicate' 0 42"
   ]
  },
  {
   "cell_type": "code",
   "execution_count": null,
   "id": "2634052f",
   "metadata": {},
   "outputs": [],
   "source": [
    "replicate' 3 42"
   ]
  },
  {
   "cell_type": "code",
   "execution_count": null,
   "id": "f9c903b6",
   "metadata": {},
   "outputs": [],
   "source": [
    "nth :: Int -> [a] -> a\n",
    "nth 0 (x:_) = x\n",
    "nth n (_:xs) = nth (n - 1) xs"
   ]
  },
  {
   "cell_type": "code",
   "execution_count": null,
   "id": "c9e3765f",
   "metadata": {},
   "outputs": [],
   "source": [
    "nth 2 [1..10]"
   ]
  },
  {
   "cell_type": "code",
   "execution_count": null,
   "id": "4d63c59b",
   "metadata": {},
   "outputs": [],
   "source": [
    "nth 0 [1..10]"
   ]
  },
  {
   "cell_type": "code",
   "execution_count": null,
   "id": "8ef7c511",
   "metadata": {},
   "outputs": [],
   "source": [
    "elem' :: Eq a => a -> [a] -> Bool\n",
    "elem' _ [] = False\n",
    "elem' k (x:xs) = x == k || elem' k xs"
   ]
  },
  {
   "cell_type": "code",
   "execution_count": null,
   "id": "03b8bfe2",
   "metadata": {},
   "outputs": [],
   "source": [
    "elem' 42 []"
   ]
  },
  {
   "cell_type": "code",
   "execution_count": null,
   "id": "e6373c52",
   "metadata": {},
   "outputs": [],
   "source": [
    "elem' 42 [1..]"
   ]
  },
  {
   "cell_type": "code",
   "execution_count": null,
   "id": "adecba5a",
   "metadata": {},
   "outputs": [],
   "source": [
    "elem' 20 [1..10]"
   ]
  },
  {
   "cell_type": "markdown",
   "id": "a53194cf",
   "metadata": {},
   "source": [
    "### Exercise 7"
   ]
  },
  {
   "cell_type": "code",
   "execution_count": null,
   "id": "4ef296bb",
   "metadata": {},
   "outputs": [],
   "source": [
    "-- merges two sorted lists\n",
    "merge :: Ord a => [a] -> [a] -> [a]\n",
    "merge xs [] = xs\n",
    "merge [] ys = ys\n",
    "merge left@(x:xs) right@(y:ys)\n",
    "    | x <= y = x : merge xs right\n",
    "    | otherwise = y : merge left ys"
   ]
  },
  {
   "cell_type": "code",
   "execution_count": null,
   "id": "a28d75f5",
   "metadata": {},
   "outputs": [],
   "source": [
    "merge [] []"
   ]
  },
  {
   "cell_type": "code",
   "execution_count": null,
   "id": "298c3a2a",
   "metadata": {},
   "outputs": [],
   "source": [
    "merge [2, 5, 6] []"
   ]
  },
  {
   "cell_type": "code",
   "execution_count": null,
   "id": "27510fbc",
   "metadata": {},
   "outputs": [],
   "source": [
    "merge [] [1, 3, 4]"
   ]
  },
  {
   "cell_type": "code",
   "execution_count": null,
   "id": "892519e3",
   "metadata": {},
   "outputs": [],
   "source": [
    "merge [2, 5, 6] [1, 3, 4]"
   ]
  },
  {
   "cell_type": "markdown",
   "id": "8f536f53",
   "metadata": {},
   "source": [
    "### Exercise 8"
   ]
  },
  {
   "cell_type": "code",
   "execution_count": null,
   "id": "0671f5cd",
   "metadata": {},
   "outputs": [],
   "source": [
    "-- sorts a list using merge sort\n",
    "msort :: Ord a => [a] -> [a]\n",
    "msort [] = []\n",
    "msort [x] = [x]\n",
    "msort xs = merge (msort left) (msort right)\n",
    "    where\n",
    "        (left, right) = halve xs\n",
    "        \n",
    "\n",
    "halve :: [a] -> ([a], [a])\n",
    "halve xs = splitAt n xs\n",
    "    where\n",
    "        n = length xs `div` 2"
   ]
  },
  {
   "cell_type": "code",
   "execution_count": null,
   "id": "db4a7c62",
   "metadata": {},
   "outputs": [],
   "source": [
    "msort []"
   ]
  },
  {
   "cell_type": "code",
   "execution_count": null,
   "id": "c992dad1",
   "metadata": {},
   "outputs": [],
   "source": [
    "msort [2, -1, 6, 42, 4, 2]"
   ]
  },
  {
   "cell_type": "markdown",
   "id": "6617f0a2",
   "metadata": {},
   "source": [
    "### Exercise 9"
   ]
  },
  {
   "cell_type": "code",
   "execution_count": null,
   "id": "3c11ab9b",
   "metadata": {},
   "outputs": [],
   "source": [
    "sum' :: Num a => [a] -> a\n",
    "sum' [] = 0\n",
    "sum' (x:xs) = x + sum' xs"
   ]
  },
  {
   "cell_type": "code",
   "execution_count": null,
   "id": "050ee18a",
   "metadata": {},
   "outputs": [],
   "source": [
    "sum' []"
   ]
  },
  {
   "cell_type": "code",
   "execution_count": null,
   "id": "498855f8",
   "metadata": {},
   "outputs": [],
   "source": [
    "sum' [1..5]"
   ]
  },
  {
   "cell_type": "code",
   "execution_count": null,
   "id": "adaa3d29",
   "metadata": {},
   "outputs": [],
   "source": [
    "take' :: Int -> [a] -> [a]\n",
    "take' _ [] = []\n",
    "take' 0 _ = []\n",
    "take' n (x:xs) = x : take' (n - 1) xs"
   ]
  },
  {
   "cell_type": "code",
   "execution_count": null,
   "id": "1247f9d4",
   "metadata": {},
   "outputs": [],
   "source": [
    "take' 1 []"
   ]
  },
  {
   "cell_type": "code",
   "execution_count": null,
   "id": "5038beb8",
   "metadata": {},
   "outputs": [],
   "source": [
    "take' 0 [1..]"
   ]
  },
  {
   "cell_type": "code",
   "execution_count": null,
   "id": "30e0dd7b",
   "metadata": {},
   "outputs": [],
   "source": [
    "take' 5 [1..]"
   ]
  },
  {
   "cell_type": "code",
   "execution_count": null,
   "id": "706d57fe",
   "metadata": {},
   "outputs": [],
   "source": [
    "last' :: [a] -> a\n",
    "last' [x] = x\n",
    "last' (_:xs) = last' xs"
   ]
  },
  {
   "cell_type": "code",
   "execution_count": null,
   "id": "3771ae92",
   "metadata": {},
   "outputs": [],
   "source": [
    "last' [1, 2, 3, 42]"
   ]
  },
  {
   "cell_type": "markdown",
   "id": "15685885",
   "metadata": {},
   "source": [
    "## Chapter 7: Higher-order functions"
   ]
  },
  {
   "cell_type": "markdown",
   "id": "0f28675e",
   "metadata": {},
   "source": [
    "### Exercise 1\n",
    "Re-implement `[f x | x <- xs, p x]` using `map` and `filter`."
   ]
  },
  {
   "cell_type": "code",
   "execution_count": null,
   "id": "130c5379",
   "metadata": {},
   "outputs": [],
   "source": [
    "filterMap :: (a -> Bool) -> (a -> b) -> [a] -> [b]\n",
    "filterMap p f = map f . filter p"
   ]
  },
  {
   "cell_type": "code",
   "execution_count": null,
   "id": "008926b1",
   "metadata": {},
   "outputs": [],
   "source": [
    "filterMap even (^2) [1..10]"
   ]
  },
  {
   "cell_type": "markdown",
   "id": "60acb9a5",
   "metadata": {},
   "source": [
    "### Exercise 2"
   ]
  },
  {
   "cell_type": "code",
   "execution_count": null,
   "id": "62da3637",
   "metadata": {},
   "outputs": [],
   "source": [
    "all' :: (a -> Bool) -> [a] -> Bool\n",
    "all' p = foldr ((&&) . p) True"
   ]
  },
  {
   "cell_type": "code",
   "execution_count": null,
   "id": "9d185915",
   "metadata": {},
   "outputs": [],
   "source": [
    "all' even [2, 4, 6]"
   ]
  },
  {
   "cell_type": "code",
   "execution_count": null,
   "id": "e9c40746",
   "metadata": {},
   "outputs": [],
   "source": [
    "all' even [2, 3, 4]"
   ]
  },
  {
   "cell_type": "code",
   "execution_count": null,
   "id": "50c961cb",
   "metadata": {},
   "outputs": [],
   "source": [
    "any' :: (a -> Bool) -> [a] -> Bool\n",
    "any' p = foldr ((||) . p) False"
   ]
  },
  {
   "cell_type": "code",
   "execution_count": null,
   "id": "7e8b3667",
   "metadata": {},
   "outputs": [],
   "source": [
    "any' even []"
   ]
  },
  {
   "cell_type": "code",
   "execution_count": null,
   "id": "065cff7e",
   "metadata": {},
   "outputs": [],
   "source": [
    "any' even [1, 3, 5]"
   ]
  },
  {
   "cell_type": "code",
   "execution_count": null,
   "id": "114b1083",
   "metadata": {},
   "outputs": [],
   "source": [
    "any' even [1, 2, 3]"
   ]
  },
  {
   "cell_type": "code",
   "execution_count": null,
   "id": "bce4f0af",
   "metadata": {},
   "outputs": [],
   "source": [
    "takeWhile' :: (a -> Bool) -> [a] -> [a]\n",
    "takeWhile' _ [] = []\n",
    "takeWhile' p (x:xs)\n",
    "    | not (p x) = []\n",
    "    | otherwise = x : takeWhile' p xs"
   ]
  },
  {
   "cell_type": "code",
   "execution_count": null,
   "id": "c70bac34",
   "metadata": {},
   "outputs": [],
   "source": [
    "takeWhile' even []"
   ]
  },
  {
   "cell_type": "code",
   "execution_count": null,
   "id": "b3f4ddc7",
   "metadata": {},
   "outputs": [],
   "source": [
    "takeWhile' even [2, 4, 8, 9]"
   ]
  },
  {
   "cell_type": "code",
   "execution_count": null,
   "id": "c0c790db",
   "metadata": {},
   "outputs": [],
   "source": [
    "dropWhile' :: (a -> Bool) -> [a] -> [a]\n",
    "dropWhile' _ [] = []\n",
    "dropWhile' p list@(x:xs)\n",
    "    | not (p x) = list\n",
    "    | otherwise = dropWhile' p xs"
   ]
  },
  {
   "cell_type": "code",
   "execution_count": null,
   "id": "5b3a6dda",
   "metadata": {},
   "outputs": [],
   "source": [
    "dropWhile' even []"
   ]
  },
  {
   "cell_type": "code",
   "execution_count": null,
   "id": "afb2c579",
   "metadata": {},
   "outputs": [],
   "source": [
    "dropWhile' even [2, 4, 8, 9]"
   ]
  },
  {
   "cell_type": "markdown",
   "id": "ec61440b",
   "metadata": {},
   "source": [
    "### Exercise 3"
   ]
  },
  {
   "cell_type": "code",
   "execution_count": null,
   "id": "c138049e",
   "metadata": {},
   "outputs": [],
   "source": [
    "map' :: (a -> b) -> [a] -> [b]\n",
    "map' f = foldr ((:) . f) []"
   ]
  },
  {
   "cell_type": "code",
   "execution_count": null,
   "id": "60c78fa4",
   "metadata": {},
   "outputs": [],
   "source": [
    "map' (+1) []"
   ]
  },
  {
   "cell_type": "code",
   "execution_count": null,
   "id": "58278d74",
   "metadata": {},
   "outputs": [],
   "source": [
    "map' (+1) [1..10]"
   ]
  },
  {
   "cell_type": "code",
   "execution_count": null,
   "id": "a583baa8",
   "metadata": {},
   "outputs": [],
   "source": [
    "filter' :: (a -> Bool) -> [a] -> [a]\n",
    "filter' p = foldr op []\n",
    "    where op x xs = if p x then x : xs else xs"
   ]
  },
  {
   "cell_type": "code",
   "execution_count": null,
   "id": "2270727a",
   "metadata": {},
   "outputs": [],
   "source": [
    "filter' even []"
   ]
  },
  {
   "cell_type": "code",
   "execution_count": null,
   "id": "d090edd2",
   "metadata": {},
   "outputs": [],
   "source": [
    "filter' even [1..10]"
   ]
  },
  {
   "cell_type": "markdown",
   "id": "b4ab2373",
   "metadata": {},
   "source": [
    "### Exercise 4"
   ]
  },
  {
   "cell_type": "code",
   "execution_count": null,
   "id": "25fb0b1c",
   "metadata": {},
   "outputs": [],
   "source": [
    "-- converts digits of a decimal number to an integer\n",
    "-- implementation should use foldl\n",
    "dec2int :: [Int] -> Int\n",
    "dec2int = foldl op 0 . zip [0..] . reverse\n",
    "    where op acc (n, d) = acc + d * 10^n"
   ]
  },
  {
   "cell_type": "code",
   "execution_count": null,
   "id": "54f06332",
   "metadata": {},
   "outputs": [],
   "source": [
    "dec2int [2, 3, 4, 5]"
   ]
  },
  {
   "cell_type": "markdown",
   "id": "6d6156b4",
   "metadata": {},
   "source": [
    "### Exercise 5"
   ]
  },
  {
   "cell_type": "code",
   "execution_count": null,
   "id": "16feb8d6",
   "metadata": {},
   "outputs": [],
   "source": [
    "uncurry' :: (a -> b -> c) -> (a, b) -> c\n",
    "uncurry' f = \\ (x, y) -> f x y"
   ]
  },
  {
   "cell_type": "code",
   "execution_count": null,
   "id": "183f4c81",
   "metadata": {},
   "outputs": [],
   "source": [
    "uncurry' take (3, [1..])"
   ]
  },
  {
   "cell_type": "markdown",
   "id": "5ea891d4",
   "metadata": {},
   "source": [
    "### Exercise 6"
   ]
  },
  {
   "cell_type": "code",
   "execution_count": null,
   "id": "9aa2ed35",
   "metadata": {},
   "outputs": [],
   "source": [
    "-- capures a recursive pattern with base case when (p x) holds\n",
    "-- otherwise constructs a list with (h x) as each head and recursive tail from (t x)\n",
    "unfold :: (a -> Bool) -> (a -> b) -> (a -> a) -> a -> [b]\n",
    "unfold p h t x\n",
    "    | p x = []\n",
    "    | otherwise = h x : unfold p h t (t x)"
   ]
  },
  {
   "cell_type": "code",
   "execution_count": null,
   "id": "8ed288f6",
   "metadata": {},
   "outputs": [],
   "source": [
    "type Bit = Int\n",
    "\n",
    "-- converts an integer to bit representation with the least significant at the lowest index (LE style)\n",
    "int2bin :: Int -> [Bit]\n",
    "int2bin = unfold (==0) (`mod` 2) (`div` 2)"
   ]
  },
  {
   "cell_type": "code",
   "execution_count": null,
   "id": "29297e03",
   "metadata": {},
   "outputs": [],
   "source": [
    "int2bin 13"
   ]
  },
  {
   "cell_type": "code",
   "execution_count": null,
   "id": "774510a4",
   "metadata": {},
   "outputs": [],
   "source": [
    "-- partitions give  stream of bits to 8 bit chunds\n",
    "chop8 :: [Bit] -> [[Bit]]\n",
    "chop8 = unfold null (take 8) (drop 8)"
   ]
  },
  {
   "cell_type": "code",
   "execution_count": null,
   "id": "e64837ab",
   "metadata": {},
   "outputs": [],
   "source": [
    "chop8 [1, 0, 1, 1, 0, 0, 0, 0, 1, 1, 1, 1, 0, 0, 0, 0]"
   ]
  },
  {
   "cell_type": "code",
   "execution_count": null,
   "id": "3cb6eca7",
   "metadata": {},
   "outputs": [],
   "source": [
    "-- re-implementation of map using unfold\n",
    "map' :: (a -> b) -> [a] -> [b]\n",
    "map' f = unfold null (f . head) tail"
   ]
  },
  {
   "cell_type": "code",
   "execution_count": null,
   "id": "5d34102a",
   "metadata": {},
   "outputs": [],
   "source": [
    "map' (^2) [1..10]"
   ]
  },
  {
   "cell_type": "code",
   "execution_count": null,
   "id": "a31eae92",
   "metadata": {},
   "outputs": [],
   "source": [
    "-- re-implementation of iterate using unfold\n",
    "iterate' :: (a -> a) -> a -> [a]\n",
    "iterate' = unfold (const False) id"
   ]
  },
  {
   "cell_type": "code",
   "execution_count": null,
   "id": "433c6350",
   "metadata": {},
   "outputs": [],
   "source": [
    "take 10 $ iterate' (+1) 0"
   ]
  },
  {
   "cell_type": "markdown",
   "id": "50247152",
   "metadata": {},
   "source": [
    "### Exercise 9"
   ]
  },
  {
   "cell_type": "code",
   "execution_count": null,
   "id": "9388ea2a",
   "metadata": {},
   "outputs": [],
   "source": [
    "-- applies f and g in alternating fashion\n",
    "altMap :: (a -> b) -> (a -> b) -> [a] -> [b]\n",
    "altMap f g = foldl op [] . zip [1..]\n",
    "    where\n",
    "        op xs (n, x)\n",
    "            | odd n = f x : xs\n",
    "            | otherwise = g x : xs"
   ]
  },
  {
   "cell_type": "code",
   "execution_count": null,
   "id": "a041ef44",
   "metadata": {},
   "outputs": [],
   "source": [
    "altMap (+10) (+100) [0..4]"
   ]
  },
  {
   "cell_type": "code",
   "execution_count": null,
   "id": "952d62f4",
   "metadata": {},
   "outputs": [],
   "source": [
    "-- applies f and g in alternating fashion\n",
    "altMap :: (a -> b) -> (a -> b) -> [a] -> [b]\n",
    "altMap f g = zipWith apply fs\n",
    "    where fs = concat $ repeat [f, g]"
   ]
  },
  {
   "cell_type": "code",
   "execution_count": null,
   "id": "56253d10",
   "metadata": {},
   "outputs": [],
   "source": [
    "altMap (+10) (+100) [0..4]"
   ]
  },
  {
   "cell_type": "markdown",
   "id": "8b56983d",
   "metadata": {},
   "source": [
    "### Exercise 10\n",
    "Re-implemnt the *Luhn algorithm* for a card number of arbitrary length."
   ]
  },
  {
   "cell_type": "code",
   "execution_count": null,
   "id": "9c144277",
   "metadata": {},
   "outputs": [],
   "source": [
    "luhn :: [Int] -> Bool\n",
    "luhn ns = total `mod` 10 == 0\n",
    "    where total = sum $ altMap id luhnDouble $ reverse ns"
   ]
  },
  {
   "cell_type": "code",
   "execution_count": null,
   "id": "b4e8a65a",
   "metadata": {},
   "outputs": [],
   "source": [
    "luhn [1, 7, 8, 4]"
   ]
  },
  {
   "cell_type": "code",
   "execution_count": null,
   "id": "a9a8d8fa",
   "metadata": {},
   "outputs": [],
   "source": [
    "luhn [4, 7, 8, 3]"
   ]
  }
 ],
 "metadata": {
  "kernelspec": {
   "display_name": "Haskell",
   "language": "haskell",
   "name": "haskell"
  },
  "language_info": {
   "codemirror_mode": "ihaskell",
   "file_extension": ".hs",
   "mimetype": "text/x-haskell",
   "name": "haskell",
   "pygments_lexer": "Haskell",
   "version": "8.10.4"
  }
 },
 "nbformat": 4,
 "nbformat_minor": 5
}
