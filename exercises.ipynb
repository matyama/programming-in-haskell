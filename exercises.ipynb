{
 "cells": [
  {
   "cell_type": "markdown",
   "id": "44adfe38",
   "metadata": {},
   "source": [
    "# Exercises"
   ]
  },
  {
   "cell_type": "markdown",
   "id": "fc14f5ca",
   "metadata": {},
   "source": [
    "## Chapter 1: Introduction"
   ]
  },
  {
   "cell_type": "markdown",
   "id": "1f6b527c",
   "metadata": {},
   "source": [
    "### Exercise 3"
   ]
  },
  {
   "cell_type": "code",
   "execution_count": null,
   "id": "be192ce2",
   "metadata": {},
   "outputs": [],
   "source": [
    "product' :: Num a => [a] -> a\n",
    "product' [] = 1\n",
    "product' (n:ns) = n * product' ns"
   ]
  },
  {
   "cell_type": "code",
   "execution_count": null,
   "id": "2df55c99",
   "metadata": {},
   "outputs": [],
   "source": [
    "product' [1..4]"
   ]
  },
  {
   "cell_type": "code",
   "execution_count": null,
   "id": "d4646340",
   "metadata": {},
   "outputs": [],
   "source": [
    "product' []"
   ]
  },
  {
   "cell_type": "markdown",
   "id": "8eed32cc",
   "metadata": {},
   "source": [
    "## Chapter 2: First steps"
   ]
  },
  {
   "cell_type": "markdown",
   "id": "c1f051a7",
   "metadata": {},
   "source": [
    "### Exercise 3"
   ]
  },
  {
   "cell_type": "code",
   "execution_count": null,
   "id": "bebc680a",
   "metadata": {},
   "outputs": [],
   "source": [
    "n = a `div` length xs\n",
    "    where\n",
    "        a = 10\n",
    "        xs = [1, 2, 3, 4, 5]"
   ]
  },
  {
   "cell_type": "markdown",
   "id": "26098506",
   "metadata": {},
   "source": [
    "### Exercise 4"
   ]
  },
  {
   "cell_type": "code",
   "execution_count": null,
   "id": "9cdeab39",
   "metadata": {},
   "outputs": [],
   "source": [
    "last' :: [a] -> a\n",
    "last' xs = xs !! (n - 1)\n",
    "    where n = length xs"
   ]
  },
  {
   "cell_type": "code",
   "execution_count": null,
   "id": "a0cf19f9",
   "metadata": {},
   "outputs": [],
   "source": [
    "last' [1, 2, 3, 4, 5]"
   ]
  },
  {
   "cell_type": "markdown",
   "id": "3ef715b3",
   "metadata": {},
   "source": [
    "### Exercise 5"
   ]
  },
  {
   "cell_type": "code",
   "execution_count": null,
   "id": "9f8094a3",
   "metadata": {},
   "outputs": [],
   "source": [
    "init' :: [a] -> [a]\n",
    "init' xs = take (n - 1) xs\n",
    "    where n = length xs"
   ]
  },
  {
   "cell_type": "code",
   "execution_count": null,
   "id": "9d3210eb",
   "metadata": {},
   "outputs": [],
   "source": [
    "init' [1, 2, 3, 4, 5]"
   ]
  },
  {
   "cell_type": "code",
   "execution_count": null,
   "id": "61184526",
   "metadata": {},
   "outputs": [],
   "source": [
    "init'' :: [a] -> [a]\n",
    "init'' = reverse . tail . reverse"
   ]
  },
  {
   "cell_type": "code",
   "execution_count": null,
   "id": "60a3d9b9",
   "metadata": {},
   "outputs": [],
   "source": [
    "init'' [1, 2, 3, 4, 5]"
   ]
  },
  {
   "cell_type": "markdown",
   "id": "e13d5878",
   "metadata": {},
   "source": [
    "## Chapter 3: Types and classes"
   ]
  },
  {
   "cell_type": "markdown",
   "id": "378c3095",
   "metadata": {},
   "source": [
    "### Exercise 1"
   ]
  },
  {
   "cell_type": "code",
   "execution_count": null,
   "id": "900a27b8",
   "metadata": {},
   "outputs": [],
   "source": [
    "['a', 'b', 'c'] :: [Char]\n",
    "\n",
    "('a', 'b', 'c') :: (Char, Char, Char)\n",
    "\n",
    "[(False, '0'), (True, '1')] :: [(Bool, Char)]\n",
    "\n",
    "([False, True], ['0', '1']) :: ([Bool], [Char])\n",
    "\n",
    "funcs :: [([a] -> [a])]\n",
    "funcs = [tail, init, reverse]"
   ]
  },
  {
   "cell_type": "markdown",
   "id": "5404ee2a",
   "metadata": {},
   "source": [
    "### Exercise 2"
   ]
  },
  {
   "cell_type": "code",
   "execution_count": null,
   "id": "166ed24b",
   "metadata": {},
   "outputs": [],
   "source": [
    "bools :: [Bool]\n",
    "bools = [True, False]\n",
    "\n",
    "nums :: [[Int]]\n",
    "nums = [[1, 2, 3], [], [42]]\n",
    "\n",
    "add :: Int -> Int -> Int -> Int\n",
    "add x y z = x + y + z\n",
    "\n",
    "copy :: a -> (a, a)\n",
    "copy x = (x, x)\n",
    "\n",
    "apply :: (a -> b) -> a -> b\n",
    "apply f x = f x"
   ]
  },
  {
   "cell_type": "markdown",
   "id": "2b5bc843",
   "metadata": {},
   "source": [
    "### Exercise 3"
   ]
  },
  {
   "cell_type": "code",
   "execution_count": null,
   "id": "123fa618",
   "metadata": {},
   "outputs": [],
   "source": [
    "second :: [a] -> a\n",
    "second xs = head (tail xs)\n",
    "\n",
    "swap :: (a, b) -> (b, a)\n",
    "swap (x, y) = (y, x)\n",
    "\n",
    "pair :: a -> b -> (a, b)\n",
    "pair x y = (x, y)\n",
    "\n",
    "double :: Num a => a -> a\n",
    "double x = x ^ 2\n",
    "\n",
    "palindrome :: Eq a => [a] -> Bool\n",
    "palindrome xs = reverse xs == xs\n",
    "\n",
    "twice :: (a -> a) -> a -> a\n",
    "twice f x = f (f x)"
   ]
  }
 ],
 "metadata": {
  "kernelspec": {
   "display_name": "Haskell",
   "language": "haskell",
   "name": "haskell"
  },
  "language_info": {
   "codemirror_mode": "ihaskell",
   "file_extension": ".hs",
   "mimetype": "text/x-haskell",
   "name": "haskell",
   "pygments_lexer": "Haskell",
   "version": "8.10.4"
  }
 },
 "nbformat": 4,
 "nbformat_minor": 5
}
